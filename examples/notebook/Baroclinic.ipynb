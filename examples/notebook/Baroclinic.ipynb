{
 "cells": [
  {
   "cell_type": "markdown",
   "id": "c7180899-6376-41c0-8ea8-a05b4a05176b",
   "metadata": {},
   "source": [
    "## Setup MPI environment"
   ]
  },
  {
   "cell_type": "code",
   "execution_count": 1,
   "id": "2afca183-8e48-4501-80ab-dac7c014dbe8",
   "metadata": {},
   "outputs": [
    {
     "name": "stdout",
     "output_type": "stream",
     "text": [
      "Starting 6 engines with <class 'ipyparallel.cluster.launcher.MPIEngineSetLauncher'>\n"
     ]
    },
    {
     "data": {
      "application/vnd.jupyter.widget-view+json": {
       "model_id": "5fba7dd5d809433bbb10b1cbf5dd3a83",
       "version_major": 2,
       "version_minor": 0
      },
      "text/plain": [
       "  0%|          | 0/6 [00:00<?, ?engine/s]"
      ]
     },
     "metadata": {},
     "output_type": "display_data"
    },
    {
     "name": "stdout",
     "output_type": "stream",
     "text": [
      "%autopx enabled\n"
     ]
    },
    {
     "name": "stderr",
     "output_type": "stream",
     "text": [
      "[1:execute]\n",
      "\u001b[0;31m---------------------------------------------------------------------------\u001b[0m\n",
      "\u001b[0;31mValueError\u001b[0m                                Traceback (most recent call last)\n",
      "Cell \u001b[0;32mIn[4], line 1\u001b[0m\n",
      "\u001b[0;32m----> 1\u001b[0m metric_terms \u001b[38;5;241m=\u001b[39m \u001b[43mMetricTerms\u001b[49m\u001b[43m(\u001b[49m\n",
      "\u001b[1;32m      2\u001b[0m \u001b[43m    \u001b[49m\u001b[43mquantity_factory\u001b[49m\u001b[38;5;241;43m=\u001b[39;49m\u001b[43mquantity_factory\u001b[49m\u001b[43m,\u001b[49m\n",
      "\u001b[1;32m      3\u001b[0m \u001b[43m    \u001b[49m\u001b[43mcommunicator\u001b[49m\u001b[38;5;241;43m=\u001b[39;49m\u001b[43mcs_communicator\u001b[49m\u001b[43m,\u001b[49m\n",
      "\u001b[1;32m      4\u001b[0m \u001b[43m)\u001b[49m\n",
      "\u001b[1;32m      6\u001b[0m horizontal_data \u001b[38;5;241m=\u001b[39m HorizontalGridData\u001b[38;5;241m.\u001b[39mnew_from_metric_terms(metric_terms)\n",
      "\u001b[1;32m      7\u001b[0m vertical_data \u001b[38;5;241m=\u001b[39m VerticalGridData\u001b[38;5;241m.\u001b[39mnew_from_metric_terms(metric_terms)\n",
      "\n",
      "File \u001b[0;32m/usr/local/lib/python3.8/site-packages/ndsl/grid/generation.py:304\u001b[0m, in \u001b[0;36mMetricTerms.__init__\u001b[0;34m(self, quantity_factory, communicator, grid_type, dx_const, dy_const, deglat, extdgrid, eta_file)\u001b[0m\n",
      "\u001b[1;32m    297\u001b[0m \u001b[38;5;28mself\u001b[39m\u001b[38;5;241m.\u001b[39m_area \u001b[38;5;241m=\u001b[39m \u001b[38;5;28;01mNone\u001b[39;00m\n",
      "\u001b[1;32m    298\u001b[0m \u001b[38;5;28mself\u001b[39m\u001b[38;5;241m.\u001b[39m_area_c \u001b[38;5;241m=\u001b[39m \u001b[38;5;28;01mNone\u001b[39;00m\n",
      "\u001b[1;32m    299\u001b[0m (\n",
      "\u001b[1;32m    300\u001b[0m     \u001b[38;5;28mself\u001b[39m\u001b[38;5;241m.\u001b[39m_ks,\n",
      "\u001b[1;32m    301\u001b[0m     \u001b[38;5;28mself\u001b[39m\u001b[38;5;241m.\u001b[39m_ptop,\n",
      "\u001b[1;32m    302\u001b[0m     \u001b[38;5;28mself\u001b[39m\u001b[38;5;241m.\u001b[39m_ak,\n",
      "\u001b[1;32m    303\u001b[0m     \u001b[38;5;28mself\u001b[39m\u001b[38;5;241m.\u001b[39m_bk,\n",
      "\u001b[0;32m--> 304\u001b[0m ) \u001b[38;5;241m=\u001b[39m \u001b[38;5;28;43mself\u001b[39;49m\u001b[38;5;241;43m.\u001b[39;49m\u001b[43m_set_hybrid_pressure_coefficients\u001b[49m\u001b[43m(\u001b[49m\u001b[43meta_file\u001b[49m\u001b[43m)\u001b[49m\n",
      "\u001b[1;32m    305\u001b[0m \u001b[38;5;28mself\u001b[39m\u001b[38;5;241m.\u001b[39m_ec1 \u001b[38;5;241m=\u001b[39m \u001b[38;5;28;01mNone\u001b[39;00m\n",
      "\u001b[1;32m    306\u001b[0m \u001b[38;5;28mself\u001b[39m\u001b[38;5;241m.\u001b[39m_ec2 \u001b[38;5;241m=\u001b[39m \u001b[38;5;28;01mNone\u001b[39;00m\n",
      "\n",
      "File \u001b[0;32m/usr/local/lib/python3.8/site-packages/ndsl/grid/generation.py:2172\u001b[0m, in \u001b[0;36mMetricTerms._set_hybrid_pressure_coefficients\u001b[0;34m(self, eta_file)\u001b[0m\n",
      "\u001b[1;32m   2162\u001b[0m ak \u001b[38;5;241m=\u001b[39m \u001b[38;5;28mself\u001b[39m\u001b[38;5;241m.\u001b[39mquantity_factory\u001b[38;5;241m.\u001b[39mzeros(\n",
      "\u001b[1;32m   2163\u001b[0m     [Z_INTERFACE_DIM],\n",
      "\u001b[1;32m   2164\u001b[0m     \u001b[38;5;124m\"\u001b[39m\u001b[38;5;124mPa\u001b[39m\u001b[38;5;124m\"\u001b[39m,\n",
      "\u001b[1;32m   2165\u001b[0m     dtype\u001b[38;5;241m=\u001b[39mFloat,\n",
      "\u001b[1;32m   2166\u001b[0m )\n",
      "\u001b[1;32m   2167\u001b[0m bk \u001b[38;5;241m=\u001b[39m \u001b[38;5;28mself\u001b[39m\u001b[38;5;241m.\u001b[39mquantity_factory\u001b[38;5;241m.\u001b[39mzeros(\n",
      "\u001b[1;32m   2168\u001b[0m     [Z_INTERFACE_DIM],\n",
      "\u001b[1;32m   2169\u001b[0m     \u001b[38;5;124m\"\u001b[39m\u001b[38;5;124m\"\u001b[39m,\n",
      "\u001b[1;32m   2170\u001b[0m     dtype\u001b[38;5;241m=\u001b[39mFloat,\n",
      "\u001b[1;32m   2171\u001b[0m )\n",
      "\u001b[0;32m-> 2172\u001b[0m pressure_coefficients \u001b[38;5;241m=\u001b[39m \u001b[43meta\u001b[49m\u001b[38;5;241;43m.\u001b[39;49m\u001b[43mset_hybrid_pressure_coefficients\u001b[49m\u001b[43m(\u001b[49m\n",
      "\u001b[1;32m   2173\u001b[0m \u001b[43m    \u001b[49m\u001b[38;5;28;43mself\u001b[39;49m\u001b[38;5;241;43m.\u001b[39;49m\u001b[43m_npz\u001b[49m\u001b[43m,\u001b[49m\u001b[43m \u001b[49m\u001b[43meta_file\u001b[49m\n",
      "\u001b[1;32m   2174\u001b[0m \u001b[43m\u001b[49m\u001b[43m)\u001b[49m\n",
      "\u001b[1;32m   2175\u001b[0m ks \u001b[38;5;241m=\u001b[39m pressure_coefficients\u001b[38;5;241m.\u001b[39mks\n",
      "\u001b[1;32m   2176\u001b[0m ptop \u001b[38;5;241m=\u001b[39m pressure_coefficients\u001b[38;5;241m.\u001b[39mptop\n",
      "\n",
      "File \u001b[0;32m/usr/local/lib/python3.8/site-packages/ndsl/grid/eta.py:49\u001b[0m, in \u001b[0;36mset_hybrid_pressure_coefficients\u001b[0;34m(km, eta_file)\u001b[0m\n",
      "\u001b[1;32m     34\u001b[0m \u001b[38;5;250m\u001b[39m\u001b[38;5;124;03m\"\"\"\u001b[39;00m\n",
      "\u001b[1;32m     35\u001b[0m \u001b[38;5;124;03mSets the coefficients describing the hybrid pressure coordinates.\u001b[39;00m\n",
      "\u001b[1;32m     36\u001b[0m \n",
      "\u001b[0;32m   (...)\u001b[0m\n",
      "\u001b[1;32m     45\u001b[0m \u001b[38;5;124;03m    a HybridPressureCoefficients dataclass\u001b[39;00m\n",
      "\u001b[1;32m     46\u001b[0m \u001b[38;5;124;03m\"\"\"\u001b[39;00m\n",
      "\u001b[1;32m     48\u001b[0m \u001b[38;5;28;01mif\u001b[39;00m eta_file \u001b[38;5;241m==\u001b[39m \u001b[38;5;124m\"\u001b[39m\u001b[38;5;124mNone\u001b[39m\u001b[38;5;124m\"\u001b[39m:\n",
      "\u001b[0;32m---> 49\u001b[0m     \u001b[38;5;28;01mraise\u001b[39;00m \u001b[38;5;167;01mValueError\u001b[39;00m(\u001b[38;5;124m\"\u001b[39m\u001b[38;5;124meta file not specified\u001b[39m\u001b[38;5;124m\"\u001b[39m)\n",
      "\u001b[1;32m     50\u001b[0m \u001b[38;5;28;01mif\u001b[39;00m \u001b[38;5;129;01mnot\u001b[39;00m os\u001b[38;5;241m.\u001b[39mpath\u001b[38;5;241m.\u001b[39misfile(eta_file):\n",
      "\u001b[1;32m     51\u001b[0m     \u001b[38;5;28;01mraise\u001b[39;00m \u001b[38;5;167;01mValueError\u001b[39;00m(\u001b[38;5;124m\"\u001b[39m\u001b[38;5;124mfile \u001b[39m\u001b[38;5;124m\"\u001b[39m \u001b[38;5;241m+\u001b[39m eta_file \u001b[38;5;241m+\u001b[39m \u001b[38;5;124m\"\u001b[39m\u001b[38;5;124m does not exist\u001b[39m\u001b[38;5;124m\"\u001b[39m)\n",
      "\n",
      "\u001b[0;31mValueError\u001b[0m: eta file not specified\n",
      "[5:execute]\n",
      "\u001b[0;31m---------------------------------------------------------------------------\u001b[0m\n",
      "\u001b[0;31mValueError\u001b[0m                                Traceback (most recent call last)\n",
      "Cell \u001b[0;32mIn[4], line 1\u001b[0m\n",
      "\u001b[0;32m----> 1\u001b[0m metric_terms \u001b[38;5;241m=\u001b[39m \u001b[43mMetricTerms\u001b[49m\u001b[43m(\u001b[49m\n",
      "\u001b[1;32m      2\u001b[0m \u001b[43m    \u001b[49m\u001b[43mquantity_factory\u001b[49m\u001b[38;5;241;43m=\u001b[39;49m\u001b[43mquantity_factory\u001b[49m\u001b[43m,\u001b[49m\n",
      "\u001b[1;32m      3\u001b[0m \u001b[43m    \u001b[49m\u001b[43mcommunicator\u001b[49m\u001b[38;5;241;43m=\u001b[39;49m\u001b[43mcs_communicator\u001b[49m\u001b[43m,\u001b[49m\n",
      "\u001b[1;32m      4\u001b[0m \u001b[43m)\u001b[49m\n",
      "\u001b[1;32m      6\u001b[0m horizontal_data \u001b[38;5;241m=\u001b[39m HorizontalGridData\u001b[38;5;241m.\u001b[39mnew_from_metric_terms(metric_terms)\n",
      "\u001b[1;32m      7\u001b[0m vertical_data \u001b[38;5;241m=\u001b[39m VerticalGridData\u001b[38;5;241m.\u001b[39mnew_from_metric_terms(metric_terms)\n",
      "\n",
      "File \u001b[0;32m/usr/local/lib/python3.8/site-packages/ndsl/grid/generation.py:304\u001b[0m, in \u001b[0;36mMetricTerms.__init__\u001b[0;34m(self, quantity_factory, communicator, grid_type, dx_const, dy_const, deglat, extdgrid, eta_file)\u001b[0m\n",
      "\u001b[1;32m    297\u001b[0m \u001b[38;5;28mself\u001b[39m\u001b[38;5;241m.\u001b[39m_area \u001b[38;5;241m=\u001b[39m \u001b[38;5;28;01mNone\u001b[39;00m\n",
      "\u001b[1;32m    298\u001b[0m \u001b[38;5;28mself\u001b[39m\u001b[38;5;241m.\u001b[39m_area_c \u001b[38;5;241m=\u001b[39m \u001b[38;5;28;01mNone\u001b[39;00m\n",
      "\u001b[1;32m    299\u001b[0m (\n",
      "\u001b[1;32m    300\u001b[0m     \u001b[38;5;28mself\u001b[39m\u001b[38;5;241m.\u001b[39m_ks,\n",
      "\u001b[1;32m    301\u001b[0m     \u001b[38;5;28mself\u001b[39m\u001b[38;5;241m.\u001b[39m_ptop,\n",
      "\u001b[1;32m    302\u001b[0m     \u001b[38;5;28mself\u001b[39m\u001b[38;5;241m.\u001b[39m_ak,\n",
      "\u001b[1;32m    303\u001b[0m     \u001b[38;5;28mself\u001b[39m\u001b[38;5;241m.\u001b[39m_bk,\n",
      "\u001b[0;32m--> 304\u001b[0m ) \u001b[38;5;241m=\u001b[39m \u001b[38;5;28;43mself\u001b[39;49m\u001b[38;5;241;43m.\u001b[39;49m\u001b[43m_set_hybrid_pressure_coefficients\u001b[49m\u001b[43m(\u001b[49m\u001b[43meta_file\u001b[49m\u001b[43m)\u001b[49m\n",
      "\u001b[1;32m    305\u001b[0m \u001b[38;5;28mself\u001b[39m\u001b[38;5;241m.\u001b[39m_ec1 \u001b[38;5;241m=\u001b[39m \u001b[38;5;28;01mNone\u001b[39;00m\n",
      "\u001b[1;32m    306\u001b[0m \u001b[38;5;28mself\u001b[39m\u001b[38;5;241m.\u001b[39m_ec2 \u001b[38;5;241m=\u001b[39m \u001b[38;5;28;01mNone\u001b[39;00m\n",
      "\n",
      "File \u001b[0;32m/usr/local/lib/python3.8/site-packages/ndsl/grid/generation.py:2172\u001b[0m, in \u001b[0;36mMetricTerms._set_hybrid_pressure_coefficients\u001b[0;34m(self, eta_file)\u001b[0m\n",
      "\u001b[1;32m   2162\u001b[0m ak \u001b[38;5;241m=\u001b[39m \u001b[38;5;28mself\u001b[39m\u001b[38;5;241m.\u001b[39mquantity_factory\u001b[38;5;241m.\u001b[39mzeros(\n",
      "\u001b[1;32m   2163\u001b[0m     [Z_INTERFACE_DIM],\n",
      "\u001b[1;32m   2164\u001b[0m     \u001b[38;5;124m\"\u001b[39m\u001b[38;5;124mPa\u001b[39m\u001b[38;5;124m\"\u001b[39m,\n",
      "\u001b[1;32m   2165\u001b[0m     dtype\u001b[38;5;241m=\u001b[39mFloat,\n",
      "\u001b[1;32m   2166\u001b[0m )\n",
      "\u001b[1;32m   2167\u001b[0m bk \u001b[38;5;241m=\u001b[39m \u001b[38;5;28mself\u001b[39m\u001b[38;5;241m.\u001b[39mquantity_factory\u001b[38;5;241m.\u001b[39mzeros(\n",
      "\u001b[1;32m   2168\u001b[0m     [Z_INTERFACE_DIM],\n",
      "\u001b[1;32m   2169\u001b[0m     \u001b[38;5;124m\"\u001b[39m\u001b[38;5;124m\"\u001b[39m,\n",
      "\u001b[1;32m   2170\u001b[0m     dtype\u001b[38;5;241m=\u001b[39mFloat,\n",
      "\u001b[1;32m   2171\u001b[0m )\n",
      "\u001b[0;32m-> 2172\u001b[0m pressure_coefficients \u001b[38;5;241m=\u001b[39m \u001b[43meta\u001b[49m\u001b[38;5;241;43m.\u001b[39;49m\u001b[43mset_hybrid_pressure_coefficients\u001b[49m\u001b[43m(\u001b[49m\n",
      "\u001b[1;32m   2173\u001b[0m \u001b[43m    \u001b[49m\u001b[38;5;28;43mself\u001b[39;49m\u001b[38;5;241;43m.\u001b[39;49m\u001b[43m_npz\u001b[49m\u001b[43m,\u001b[49m\u001b[43m \u001b[49m\u001b[43meta_file\u001b[49m\n",
      "\u001b[1;32m   2174\u001b[0m \u001b[43m\u001b[49m\u001b[43m)\u001b[49m\n",
      "\u001b[1;32m   2175\u001b[0m ks \u001b[38;5;241m=\u001b[39m pressure_coefficients\u001b[38;5;241m.\u001b[39mks\n",
      "\u001b[1;32m   2176\u001b[0m ptop \u001b[38;5;241m=\u001b[39m pressure_coefficients\u001b[38;5;241m.\u001b[39mptop\n",
      "\n",
      "File \u001b[0;32m/usr/local/lib/python3.8/site-packages/ndsl/grid/eta.py:49\u001b[0m, in \u001b[0;36mset_hybrid_pressure_coefficients\u001b[0;34m(km, eta_file)\u001b[0m\n",
      "\u001b[1;32m     34\u001b[0m \u001b[38;5;250m\u001b[39m\u001b[38;5;124;03m\"\"\"\u001b[39;00m\n",
      "\u001b[1;32m     35\u001b[0m \u001b[38;5;124;03mSets the coefficients describing the hybrid pressure coordinates.\u001b[39;00m\n",
      "\u001b[1;32m     36\u001b[0m \n",
      "\u001b[0;32m   (...)\u001b[0m\n",
      "\u001b[1;32m     45\u001b[0m \u001b[38;5;124;03m    a HybridPressureCoefficients dataclass\u001b[39;00m\n",
      "\u001b[1;32m     46\u001b[0m \u001b[38;5;124;03m\"\"\"\u001b[39;00m\n",
      "\u001b[1;32m     48\u001b[0m \u001b[38;5;28;01mif\u001b[39;00m eta_file \u001b[38;5;241m==\u001b[39m \u001b[38;5;124m\"\u001b[39m\u001b[38;5;124mNone\u001b[39m\u001b[38;5;124m\"\u001b[39m:\n",
      "\u001b[0;32m---> 49\u001b[0m     \u001b[38;5;28;01mraise\u001b[39;00m \u001b[38;5;167;01mValueError\u001b[39;00m(\u001b[38;5;124m\"\u001b[39m\u001b[38;5;124meta file not specified\u001b[39m\u001b[38;5;124m\"\u001b[39m)\n",
      "\u001b[1;32m     50\u001b[0m \u001b[38;5;28;01mif\u001b[39;00m \u001b[38;5;129;01mnot\u001b[39;00m os\u001b[38;5;241m.\u001b[39mpath\u001b[38;5;241m.\u001b[39misfile(eta_file):\n",
      "\u001b[1;32m     51\u001b[0m     \u001b[38;5;28;01mraise\u001b[39;00m \u001b[38;5;167;01mValueError\u001b[39;00m(\u001b[38;5;124m\"\u001b[39m\u001b[38;5;124mfile \u001b[39m\u001b[38;5;124m\"\u001b[39m \u001b[38;5;241m+\u001b[39m eta_file \u001b[38;5;241m+\u001b[39m \u001b[38;5;124m\"\u001b[39m\u001b[38;5;124m does not exist\u001b[39m\u001b[38;5;124m\"\u001b[39m)\n",
      "\n",
      "\u001b[0;31mValueError\u001b[0m: eta file not specified\n",
      "[3:execute]\n",
      "\u001b[0;31m---------------------------------------------------------------------------\u001b[0m\n",
      "\u001b[0;31mValueError\u001b[0m                                Traceback (most recent call last)\n",
      "Cell \u001b[0;32mIn[4], line 1\u001b[0m\n",
      "\u001b[0;32m----> 1\u001b[0m metric_terms \u001b[38;5;241m=\u001b[39m \u001b[43mMetricTerms\u001b[49m\u001b[43m(\u001b[49m\n",
      "\u001b[1;32m      2\u001b[0m \u001b[43m    \u001b[49m\u001b[43mquantity_factory\u001b[49m\u001b[38;5;241;43m=\u001b[39;49m\u001b[43mquantity_factory\u001b[49m\u001b[43m,\u001b[49m\n",
      "\u001b[1;32m      3\u001b[0m \u001b[43m    \u001b[49m\u001b[43mcommunicator\u001b[49m\u001b[38;5;241;43m=\u001b[39;49m\u001b[43mcs_communicator\u001b[49m\u001b[43m,\u001b[49m\n",
      "\u001b[1;32m      4\u001b[0m \u001b[43m)\u001b[49m\n",
      "\u001b[1;32m      6\u001b[0m horizontal_data \u001b[38;5;241m=\u001b[39m HorizontalGridData\u001b[38;5;241m.\u001b[39mnew_from_metric_terms(metric_terms)\n",
      "\u001b[1;32m      7\u001b[0m vertical_data \u001b[38;5;241m=\u001b[39m VerticalGridData\u001b[38;5;241m.\u001b[39mnew_from_metric_terms(metric_terms)\n",
      "\n",
      "File \u001b[0;32m/usr/local/lib/python3.8/site-packages/ndsl/grid/generation.py:304\u001b[0m, in \u001b[0;36mMetricTerms.__init__\u001b[0;34m(self, quantity_factory, communicator, grid_type, dx_const, dy_const, deglat, extdgrid, eta_file)\u001b[0m\n",
      "\u001b[1;32m    297\u001b[0m \u001b[38;5;28mself\u001b[39m\u001b[38;5;241m.\u001b[39m_area \u001b[38;5;241m=\u001b[39m \u001b[38;5;28;01mNone\u001b[39;00m\n",
      "\u001b[1;32m    298\u001b[0m \u001b[38;5;28mself\u001b[39m\u001b[38;5;241m.\u001b[39m_area_c \u001b[38;5;241m=\u001b[39m \u001b[38;5;28;01mNone\u001b[39;00m\n",
      "\u001b[1;32m    299\u001b[0m (\n",
      "\u001b[1;32m    300\u001b[0m     \u001b[38;5;28mself\u001b[39m\u001b[38;5;241m.\u001b[39m_ks,\n",
      "\u001b[1;32m    301\u001b[0m     \u001b[38;5;28mself\u001b[39m\u001b[38;5;241m.\u001b[39m_ptop,\n",
      "\u001b[1;32m    302\u001b[0m     \u001b[38;5;28mself\u001b[39m\u001b[38;5;241m.\u001b[39m_ak,\n",
      "\u001b[1;32m    303\u001b[0m     \u001b[38;5;28mself\u001b[39m\u001b[38;5;241m.\u001b[39m_bk,\n",
      "\u001b[0;32m--> 304\u001b[0m ) \u001b[38;5;241m=\u001b[39m \u001b[38;5;28;43mself\u001b[39;49m\u001b[38;5;241;43m.\u001b[39;49m\u001b[43m_set_hybrid_pressure_coefficients\u001b[49m\u001b[43m(\u001b[49m\u001b[43meta_file\u001b[49m\u001b[43m)\u001b[49m\n",
      "\u001b[1;32m    305\u001b[0m \u001b[38;5;28mself\u001b[39m\u001b[38;5;241m.\u001b[39m_ec1 \u001b[38;5;241m=\u001b[39m \u001b[38;5;28;01mNone\u001b[39;00m\n",
      "\u001b[1;32m    306\u001b[0m \u001b[38;5;28mself\u001b[39m\u001b[38;5;241m.\u001b[39m_ec2 \u001b[38;5;241m=\u001b[39m \u001b[38;5;28;01mNone\u001b[39;00m\n",
      "\n",
      "File \u001b[0;32m/usr/local/lib/python3.8/site-packages/ndsl/grid/generation.py:2172\u001b[0m, in \u001b[0;36mMetricTerms._set_hybrid_pressure_coefficients\u001b[0;34m(self, eta_file)\u001b[0m\n",
      "\u001b[1;32m   2162\u001b[0m ak \u001b[38;5;241m=\u001b[39m \u001b[38;5;28mself\u001b[39m\u001b[38;5;241m.\u001b[39mquantity_factory\u001b[38;5;241m.\u001b[39mzeros(\n",
      "\u001b[1;32m   2163\u001b[0m     [Z_INTERFACE_DIM],\n",
      "\u001b[1;32m   2164\u001b[0m     \u001b[38;5;124m\"\u001b[39m\u001b[38;5;124mPa\u001b[39m\u001b[38;5;124m\"\u001b[39m,\n",
      "\u001b[1;32m   2165\u001b[0m     dtype\u001b[38;5;241m=\u001b[39mFloat,\n",
      "\u001b[1;32m   2166\u001b[0m )\n",
      "\u001b[1;32m   2167\u001b[0m bk \u001b[38;5;241m=\u001b[39m \u001b[38;5;28mself\u001b[39m\u001b[38;5;241m.\u001b[39mquantity_factory\u001b[38;5;241m.\u001b[39mzeros(\n",
      "\u001b[1;32m   2168\u001b[0m     [Z_INTERFACE_DIM],\n",
      "\u001b[1;32m   2169\u001b[0m     \u001b[38;5;124m\"\u001b[39m\u001b[38;5;124m\"\u001b[39m,\n",
      "\u001b[1;32m   2170\u001b[0m     dtype\u001b[38;5;241m=\u001b[39mFloat,\n",
      "\u001b[1;32m   2171\u001b[0m )\n",
      "\u001b[0;32m-> 2172\u001b[0m pressure_coefficients \u001b[38;5;241m=\u001b[39m \u001b[43meta\u001b[49m\u001b[38;5;241;43m.\u001b[39;49m\u001b[43mset_hybrid_pressure_coefficients\u001b[49m\u001b[43m(\u001b[49m\n",
      "\u001b[1;32m   2173\u001b[0m \u001b[43m    \u001b[49m\u001b[38;5;28;43mself\u001b[39;49m\u001b[38;5;241;43m.\u001b[39;49m\u001b[43m_npz\u001b[49m\u001b[43m,\u001b[49m\u001b[43m \u001b[49m\u001b[43meta_file\u001b[49m\n",
      "\u001b[1;32m   2174\u001b[0m \u001b[43m\u001b[49m\u001b[43m)\u001b[49m\n",
      "\u001b[1;32m   2175\u001b[0m ks \u001b[38;5;241m=\u001b[39m pressure_coefficients\u001b[38;5;241m.\u001b[39mks\n",
      "\u001b[1;32m   2176\u001b[0m ptop \u001b[38;5;241m=\u001b[39m pressure_coefficients\u001b[38;5;241m.\u001b[39mptop\n",
      "\n",
      "File \u001b[0;32m/usr/local/lib/python3.8/site-packages/ndsl/grid/eta.py:49\u001b[0m, in \u001b[0;36mset_hybrid_pressure_coefficients\u001b[0;34m(km, eta_file)\u001b[0m\n",
      "\u001b[1;32m     34\u001b[0m \u001b[38;5;250m\u001b[39m\u001b[38;5;124;03m\"\"\"\u001b[39;00m\n",
      "\u001b[1;32m     35\u001b[0m \u001b[38;5;124;03mSets the coefficients describing the hybrid pressure coordinates.\u001b[39;00m\n",
      "\u001b[1;32m     36\u001b[0m \n",
      "\u001b[0;32m   (...)\u001b[0m\n",
      "\u001b[1;32m     45\u001b[0m \u001b[38;5;124;03m    a HybridPressureCoefficients dataclass\u001b[39;00m\n",
      "\u001b[1;32m     46\u001b[0m \u001b[38;5;124;03m\"\"\"\u001b[39;00m\n",
      "\u001b[1;32m     48\u001b[0m \u001b[38;5;28;01mif\u001b[39;00m eta_file \u001b[38;5;241m==\u001b[39m \u001b[38;5;124m\"\u001b[39m\u001b[38;5;124mNone\u001b[39m\u001b[38;5;124m\"\u001b[39m:\n",
      "\u001b[0;32m---> 49\u001b[0m     \u001b[38;5;28;01mraise\u001b[39;00m \u001b[38;5;167;01mValueError\u001b[39;00m(\u001b[38;5;124m\"\u001b[39m\u001b[38;5;124meta file not specified\u001b[39m\u001b[38;5;124m\"\u001b[39m)\n",
      "\u001b[1;32m     50\u001b[0m \u001b[38;5;28;01mif\u001b[39;00m \u001b[38;5;129;01mnot\u001b[39;00m os\u001b[38;5;241m.\u001b[39mpath\u001b[38;5;241m.\u001b[39misfile(eta_file):\n",
      "\u001b[1;32m     51\u001b[0m     \u001b[38;5;28;01mraise\u001b[39;00m \u001b[38;5;167;01mValueError\u001b[39;00m(\u001b[38;5;124m\"\u001b[39m\u001b[38;5;124mfile \u001b[39m\u001b[38;5;124m\"\u001b[39m \u001b[38;5;241m+\u001b[39m eta_file \u001b[38;5;241m+\u001b[39m \u001b[38;5;124m\"\u001b[39m\u001b[38;5;124m does not exist\u001b[39m\u001b[38;5;124m\"\u001b[39m)\n",
      "\n",
      "\u001b[0;31mValueError\u001b[0m: eta file not specified\n",
      "[4:execute]\n",
      "\u001b[0;31m---------------------------------------------------------------------------\u001b[0m\n",
      "\u001b[0;31mValueError\u001b[0m                                Traceback (most recent call last)\n",
      "Cell \u001b[0;32mIn[4], line 1\u001b[0m\n",
      "\u001b[0;32m----> 1\u001b[0m metric_terms \u001b[38;5;241m=\u001b[39m \u001b[43mMetricTerms\u001b[49m\u001b[43m(\u001b[49m\n",
      "\u001b[1;32m      2\u001b[0m \u001b[43m    \u001b[49m\u001b[43mquantity_factory\u001b[49m\u001b[38;5;241;43m=\u001b[39;49m\u001b[43mquantity_factory\u001b[49m\u001b[43m,\u001b[49m\n",
      "\u001b[1;32m      3\u001b[0m \u001b[43m    \u001b[49m\u001b[43mcommunicator\u001b[49m\u001b[38;5;241;43m=\u001b[39;49m\u001b[43mcs_communicator\u001b[49m\u001b[43m,\u001b[49m\n",
      "\u001b[1;32m      4\u001b[0m \u001b[43m)\u001b[49m\n",
      "\u001b[1;32m      6\u001b[0m horizontal_data \u001b[38;5;241m=\u001b[39m HorizontalGridData\u001b[38;5;241m.\u001b[39mnew_from_metric_terms(metric_terms)\n",
      "\u001b[1;32m      7\u001b[0m vertical_data \u001b[38;5;241m=\u001b[39m VerticalGridData\u001b[38;5;241m.\u001b[39mnew_from_metric_terms(metric_terms)\n",
      "\n",
      "File \u001b[0;32m/usr/local/lib/python3.8/site-packages/ndsl/grid/generation.py:304\u001b[0m, in \u001b[0;36mMetricTerms.__init__\u001b[0;34m(self, quantity_factory, communicator, grid_type, dx_const, dy_const, deglat, extdgrid, eta_file)\u001b[0m\n",
      "\u001b[1;32m    297\u001b[0m \u001b[38;5;28mself\u001b[39m\u001b[38;5;241m.\u001b[39m_area \u001b[38;5;241m=\u001b[39m \u001b[38;5;28;01mNone\u001b[39;00m\n",
      "\u001b[1;32m    298\u001b[0m \u001b[38;5;28mself\u001b[39m\u001b[38;5;241m.\u001b[39m_area_c \u001b[38;5;241m=\u001b[39m \u001b[38;5;28;01mNone\u001b[39;00m\n",
      "\u001b[1;32m    299\u001b[0m (\n",
      "\u001b[1;32m    300\u001b[0m     \u001b[38;5;28mself\u001b[39m\u001b[38;5;241m.\u001b[39m_ks,\n",
      "\u001b[1;32m    301\u001b[0m     \u001b[38;5;28mself\u001b[39m\u001b[38;5;241m.\u001b[39m_ptop,\n",
      "\u001b[1;32m    302\u001b[0m     \u001b[38;5;28mself\u001b[39m\u001b[38;5;241m.\u001b[39m_ak,\n",
      "\u001b[1;32m    303\u001b[0m     \u001b[38;5;28mself\u001b[39m\u001b[38;5;241m.\u001b[39m_bk,\n",
      "\u001b[0;32m--> 304\u001b[0m ) \u001b[38;5;241m=\u001b[39m \u001b[38;5;28;43mself\u001b[39;49m\u001b[38;5;241;43m.\u001b[39;49m\u001b[43m_set_hybrid_pressure_coefficients\u001b[49m\u001b[43m(\u001b[49m\u001b[43meta_file\u001b[49m\u001b[43m)\u001b[49m\n",
      "\u001b[1;32m    305\u001b[0m \u001b[38;5;28mself\u001b[39m\u001b[38;5;241m.\u001b[39m_ec1 \u001b[38;5;241m=\u001b[39m \u001b[38;5;28;01mNone\u001b[39;00m\n",
      "\u001b[1;32m    306\u001b[0m \u001b[38;5;28mself\u001b[39m\u001b[38;5;241m.\u001b[39m_ec2 \u001b[38;5;241m=\u001b[39m \u001b[38;5;28;01mNone\u001b[39;00m\n",
      "\n",
      "File \u001b[0;32m/usr/local/lib/python3.8/site-packages/ndsl/grid/generation.py:2172\u001b[0m, in \u001b[0;36mMetricTerms._set_hybrid_pressure_coefficients\u001b[0;34m(self, eta_file)\u001b[0m\n",
      "\u001b[1;32m   2162\u001b[0m ak \u001b[38;5;241m=\u001b[39m \u001b[38;5;28mself\u001b[39m\u001b[38;5;241m.\u001b[39mquantity_factory\u001b[38;5;241m.\u001b[39mzeros(\n",
      "\u001b[1;32m   2163\u001b[0m     [Z_INTERFACE_DIM],\n",
      "\u001b[1;32m   2164\u001b[0m     \u001b[38;5;124m\"\u001b[39m\u001b[38;5;124mPa\u001b[39m\u001b[38;5;124m\"\u001b[39m,\n",
      "\u001b[1;32m   2165\u001b[0m     dtype\u001b[38;5;241m=\u001b[39mFloat,\n",
      "\u001b[1;32m   2166\u001b[0m )\n",
      "\u001b[1;32m   2167\u001b[0m bk \u001b[38;5;241m=\u001b[39m \u001b[38;5;28mself\u001b[39m\u001b[38;5;241m.\u001b[39mquantity_factory\u001b[38;5;241m.\u001b[39mzeros(\n",
      "\u001b[1;32m   2168\u001b[0m     [Z_INTERFACE_DIM],\n",
      "\u001b[1;32m   2169\u001b[0m     \u001b[38;5;124m\"\u001b[39m\u001b[38;5;124m\"\u001b[39m,\n",
      "\u001b[1;32m   2170\u001b[0m     dtype\u001b[38;5;241m=\u001b[39mFloat,\n",
      "\u001b[1;32m   2171\u001b[0m )\n",
      "\u001b[0;32m-> 2172\u001b[0m pressure_coefficients \u001b[38;5;241m=\u001b[39m \u001b[43meta\u001b[49m\u001b[38;5;241;43m.\u001b[39;49m\u001b[43mset_hybrid_pressure_coefficients\u001b[49m\u001b[43m(\u001b[49m\n",
      "\u001b[1;32m   2173\u001b[0m \u001b[43m    \u001b[49m\u001b[38;5;28;43mself\u001b[39;49m\u001b[38;5;241;43m.\u001b[39;49m\u001b[43m_npz\u001b[49m\u001b[43m,\u001b[49m\u001b[43m \u001b[49m\u001b[43meta_file\u001b[49m\n",
      "\u001b[1;32m   2174\u001b[0m \u001b[43m\u001b[49m\u001b[43m)\u001b[49m\n",
      "\u001b[1;32m   2175\u001b[0m ks \u001b[38;5;241m=\u001b[39m pressure_coefficients\u001b[38;5;241m.\u001b[39mks\n",
      "\u001b[1;32m   2176\u001b[0m ptop \u001b[38;5;241m=\u001b[39m pressure_coefficients\u001b[38;5;241m.\u001b[39mptop\n",
      "\n",
      "File \u001b[0;32m/usr/local/lib/python3.8/site-packages/ndsl/grid/eta.py:49\u001b[0m, in \u001b[0;36mset_hybrid_pressure_coefficients\u001b[0;34m(km, eta_file)\u001b[0m\n",
      "\u001b[1;32m     34\u001b[0m \u001b[38;5;250m\u001b[39m\u001b[38;5;124;03m\"\"\"\u001b[39;00m\n",
      "\u001b[1;32m     35\u001b[0m \u001b[38;5;124;03mSets the coefficients describing the hybrid pressure coordinates.\u001b[39;00m\n",
      "\u001b[1;32m     36\u001b[0m \n",
      "\u001b[0;32m   (...)\u001b[0m\n",
      "\u001b[1;32m     45\u001b[0m \u001b[38;5;124;03m    a HybridPressureCoefficients dataclass\u001b[39;00m\n",
      "\u001b[1;32m     46\u001b[0m \u001b[38;5;124;03m\"\"\"\u001b[39;00m\n",
      "\u001b[1;32m     48\u001b[0m \u001b[38;5;28;01mif\u001b[39;00m eta_file \u001b[38;5;241m==\u001b[39m \u001b[38;5;124m\"\u001b[39m\u001b[38;5;124mNone\u001b[39m\u001b[38;5;124m\"\u001b[39m:\n",
      "\u001b[0;32m---> 49\u001b[0m     \u001b[38;5;28;01mraise\u001b[39;00m \u001b[38;5;167;01mValueError\u001b[39;00m(\u001b[38;5;124m\"\u001b[39m\u001b[38;5;124meta file not specified\u001b[39m\u001b[38;5;124m\"\u001b[39m)\n",
      "\u001b[1;32m     50\u001b[0m \u001b[38;5;28;01mif\u001b[39;00m \u001b[38;5;129;01mnot\u001b[39;00m os\u001b[38;5;241m.\u001b[39mpath\u001b[38;5;241m.\u001b[39misfile(eta_file):\n",
      "\u001b[1;32m     51\u001b[0m     \u001b[38;5;28;01mraise\u001b[39;00m \u001b[38;5;167;01mValueError\u001b[39;00m(\u001b[38;5;124m\"\u001b[39m\u001b[38;5;124mfile \u001b[39m\u001b[38;5;124m\"\u001b[39m \u001b[38;5;241m+\u001b[39m eta_file \u001b[38;5;241m+\u001b[39m \u001b[38;5;124m\"\u001b[39m\u001b[38;5;124m does not exist\u001b[39m\u001b[38;5;124m\"\u001b[39m)\n",
      "\n",
      "\u001b[0;31mValueError\u001b[0m: eta file not specified\n",
      "[0:execute] ValueError: eta file not specified\n",
      "[2:execute] ValueError: eta file not specified\n",
      "[0:execute]\n",
      "\u001b[0;31m---------------------------------------------------------------------------\u001b[0m\n",
      "\u001b[0;31mNameError\u001b[0m                                 Traceback (most recent call last)\n",
      "Cell \u001b[0;32mIn[5], line 32\u001b[0m\n",
      "\u001b[1;32m     26\u001b[0m timestep \u001b[38;5;241m=\u001b[39m timedelta(seconds\u001b[38;5;241m=\u001b[39mconfig\u001b[38;5;241m.\u001b[39mdt_atmos)\n",
      "\u001b[1;32m     28\u001b[0m n_steps \u001b[38;5;241m=\u001b[39m floor(total_time\u001b[38;5;241m.\u001b[39mtotal_seconds() \u001b[38;5;241m/\u001b[39m timestep\u001b[38;5;241m.\u001b[39mtotal_seconds())\n",
      "\u001b[1;32m     30\u001b[0m state \u001b[38;5;241m=\u001b[39m analytic_init\u001b[38;5;241m.\u001b[39minit_analytic_state(\n",
      "\u001b[1;32m     31\u001b[0m     analytic_init_case\u001b[38;5;241m=\u001b[39m\u001b[38;5;124m\"\u001b[39m\u001b[38;5;124mbaroclinic\u001b[39m\u001b[38;5;124m\"\u001b[39m,\n",
      "\u001b[0;32m---> 32\u001b[0m     grid_data\u001b[38;5;241m=\u001b[39m\u001b[43mgrid_data\u001b[49m,\n",
      "\u001b[1;32m     33\u001b[0m     quantity_factory\u001b[38;5;241m=\u001b[39mquantity_factory,\n",
      "\u001b[1;32m     34\u001b[0m     adiabatic\u001b[38;5;241m=\u001b[39m\u001b[38;5;28;01mFalse\u001b[39;00m,\n",
      "\u001b[1;32m     35\u001b[0m     hydrostatic\u001b[38;5;241m=\u001b[39m\u001b[38;5;28;01mFalse\u001b[39;00m,\n",
      "\u001b[1;32m     36\u001b[0m     moist_phys\u001b[38;5;241m=\u001b[39m\u001b[38;5;28;01mTrue\u001b[39;00m,\n",
      "\u001b[1;32m     37\u001b[0m     comm\u001b[38;5;241m=\u001b[39mcs_communicator,\n",
      "\u001b[1;32m     38\u001b[0m )\n",
      "\n",
      "\u001b[0;31mNameError\u001b[0m: name 'grid_data' is not defined\n",
      "[3:execute]\n",
      "\u001b[0;31m---------------------------------------------------------------------------\u001b[0m\n",
      "\u001b[0;31mNameError\u001b[0m                                 Traceback (most recent call last)\n",
      "Cell \u001b[0;32mIn[5], line 32\u001b[0m\n",
      "\u001b[1;32m     26\u001b[0m timestep \u001b[38;5;241m=\u001b[39m timedelta(seconds\u001b[38;5;241m=\u001b[39mconfig\u001b[38;5;241m.\u001b[39mdt_atmos)\n",
      "\u001b[1;32m     28\u001b[0m n_steps \u001b[38;5;241m=\u001b[39m floor(total_time\u001b[38;5;241m.\u001b[39mtotal_seconds() \u001b[38;5;241m/\u001b[39m timestep\u001b[38;5;241m.\u001b[39mtotal_seconds())\n",
      "\u001b[1;32m     30\u001b[0m state \u001b[38;5;241m=\u001b[39m analytic_init\u001b[38;5;241m.\u001b[39minit_analytic_state(\n",
      "\u001b[1;32m     31\u001b[0m     analytic_init_case\u001b[38;5;241m=\u001b[39m\u001b[38;5;124m\"\u001b[39m\u001b[38;5;124mbaroclinic\u001b[39m\u001b[38;5;124m\"\u001b[39m,\n",
      "\u001b[0;32m---> 32\u001b[0m     grid_data\u001b[38;5;241m=\u001b[39m\u001b[43mgrid_data\u001b[49m,\n",
      "\u001b[1;32m     33\u001b[0m     quantity_factory\u001b[38;5;241m=\u001b[39mquantity_factory,\n",
      "\u001b[1;32m     34\u001b[0m     adiabatic\u001b[38;5;241m=\u001b[39m\u001b[38;5;28;01mFalse\u001b[39;00m,\n",
      "\u001b[1;32m     35\u001b[0m     hydrostatic\u001b[38;5;241m=\u001b[39m\u001b[38;5;28;01mFalse\u001b[39;00m,\n",
      "\u001b[1;32m     36\u001b[0m     moist_phys\u001b[38;5;241m=\u001b[39m\u001b[38;5;28;01mTrue\u001b[39;00m,\n",
      "\u001b[1;32m     37\u001b[0m     comm\u001b[38;5;241m=\u001b[39mcs_communicator,\n",
      "\u001b[1;32m     38\u001b[0m )\n",
      "\n",
      "\u001b[0;31mNameError\u001b[0m: name 'grid_data' is not defined\n",
      "[1:execute]\n",
      "\u001b[0;31m---------------------------------------------------------------------------\u001b[0m\n",
      "\u001b[0;31mNameError\u001b[0m                                 Traceback (most recent call last)\n",
      "Cell \u001b[0;32mIn[5], line 32\u001b[0m\n",
      "\u001b[1;32m     26\u001b[0m timestep \u001b[38;5;241m=\u001b[39m timedelta(seconds\u001b[38;5;241m=\u001b[39mconfig\u001b[38;5;241m.\u001b[39mdt_atmos)\n",
      "\u001b[1;32m     28\u001b[0m n_steps \u001b[38;5;241m=\u001b[39m floor(total_time\u001b[38;5;241m.\u001b[39mtotal_seconds() \u001b[38;5;241m/\u001b[39m timestep\u001b[38;5;241m.\u001b[39mtotal_seconds())\n",
      "\u001b[1;32m     30\u001b[0m state \u001b[38;5;241m=\u001b[39m analytic_init\u001b[38;5;241m.\u001b[39minit_analytic_state(\n",
      "\u001b[1;32m     31\u001b[0m     analytic_init_case\u001b[38;5;241m=\u001b[39m\u001b[38;5;124m\"\u001b[39m\u001b[38;5;124mbaroclinic\u001b[39m\u001b[38;5;124m\"\u001b[39m,\n",
      "\u001b[0;32m---> 32\u001b[0m     grid_data\u001b[38;5;241m=\u001b[39m\u001b[43mgrid_data\u001b[49m,\n",
      "\u001b[1;32m     33\u001b[0m     quantity_factory\u001b[38;5;241m=\u001b[39mquantity_factory,\n",
      "\u001b[1;32m     34\u001b[0m     adiabatic\u001b[38;5;241m=\u001b[39m\u001b[38;5;28;01mFalse\u001b[39;00m,\n",
      "\u001b[1;32m     35\u001b[0m     hydrostatic\u001b[38;5;241m=\u001b[39m\u001b[38;5;28;01mFalse\u001b[39;00m,\n",
      "\u001b[1;32m     36\u001b[0m     moist_phys\u001b[38;5;241m=\u001b[39m\u001b[38;5;28;01mTrue\u001b[39;00m,\n",
      "\u001b[1;32m     37\u001b[0m     comm\u001b[38;5;241m=\u001b[39mcs_communicator,\n",
      "\u001b[1;32m     38\u001b[0m )\n",
      "\n",
      "\u001b[0;31mNameError\u001b[0m: name 'grid_data' is not defined\n",
      "[5:execute]\n",
      "\u001b[0;31m---------------------------------------------------------------------------\u001b[0m\n",
      "\u001b[0;31mNameError\u001b[0m                                 Traceback (most recent call last)\n",
      "Cell \u001b[0;32mIn[5], line 32\u001b[0m\n",
      "\u001b[1;32m     26\u001b[0m timestep \u001b[38;5;241m=\u001b[39m timedelta(seconds\u001b[38;5;241m=\u001b[39mconfig\u001b[38;5;241m.\u001b[39mdt_atmos)\n",
      "\u001b[1;32m     28\u001b[0m n_steps \u001b[38;5;241m=\u001b[39m floor(total_time\u001b[38;5;241m.\u001b[39mtotal_seconds() \u001b[38;5;241m/\u001b[39m timestep\u001b[38;5;241m.\u001b[39mtotal_seconds())\n",
      "\u001b[1;32m     30\u001b[0m state \u001b[38;5;241m=\u001b[39m analytic_init\u001b[38;5;241m.\u001b[39minit_analytic_state(\n",
      "\u001b[1;32m     31\u001b[0m     analytic_init_case\u001b[38;5;241m=\u001b[39m\u001b[38;5;124m\"\u001b[39m\u001b[38;5;124mbaroclinic\u001b[39m\u001b[38;5;124m\"\u001b[39m,\n",
      "\u001b[0;32m---> 32\u001b[0m     grid_data\u001b[38;5;241m=\u001b[39m\u001b[43mgrid_data\u001b[49m,\n",
      "\u001b[1;32m     33\u001b[0m     quantity_factory\u001b[38;5;241m=\u001b[39mquantity_factory,\n",
      "\u001b[1;32m     34\u001b[0m     adiabatic\u001b[38;5;241m=\u001b[39m\u001b[38;5;28;01mFalse\u001b[39;00m,\n",
      "\u001b[1;32m     35\u001b[0m     hydrostatic\u001b[38;5;241m=\u001b[39m\u001b[38;5;28;01mFalse\u001b[39;00m,\n",
      "\u001b[1;32m     36\u001b[0m     moist_phys\u001b[38;5;241m=\u001b[39m\u001b[38;5;28;01mTrue\u001b[39;00m,\n",
      "\u001b[1;32m     37\u001b[0m     comm\u001b[38;5;241m=\u001b[39mcs_communicator,\n",
      "\u001b[1;32m     38\u001b[0m )\n",
      "\n",
      "\u001b[0;31mNameError\u001b[0m: name 'grid_data' is not defined\n",
      "[4:execute] NameError: name 'grid_data' is not defined\n",
      "[2:execute] NameError: name 'grid_data' is not defined\n",
      "[0:execute]\n",
      "\u001b[0;31m---------------------------------------------------------------------------\u001b[0m\n",
      "\u001b[0;31mNameError\u001b[0m                                 Traceback (most recent call last)\n",
      "Cell \u001b[0;32mIn[6], line 3\u001b[0m\n",
      "\u001b[1;32m      1\u001b[0m dycore \u001b[38;5;241m=\u001b[39m pyFV3\u001b[38;5;241m.\u001b[39mDynamicalCore(\n",
      "\u001b[1;32m      2\u001b[0m     comm\u001b[38;5;241m=\u001b[39mcs_communicator,\n",
      "\u001b[0;32m----> 3\u001b[0m     grid_data\u001b[38;5;241m=\u001b[39m\u001b[43mgrid_data\u001b[49m,\n",
      "\u001b[1;32m      4\u001b[0m     quantity_factory\u001b[38;5;241m=\u001b[39mquantity_factory,\n",
      "\u001b[1;32m      5\u001b[0m     stencil_factory\u001b[38;5;241m=\u001b[39mstencil_factory,\n",
      "\u001b[1;32m      6\u001b[0m     damping_coefficients\u001b[38;5;241m=\u001b[39mdamping_coefficients,\n",
      "\u001b[1;32m      7\u001b[0m     config\u001b[38;5;241m=\u001b[39mconfig,\n",
      "\u001b[1;32m      8\u001b[0m     state\u001b[38;5;241m=\u001b[39mstate,\n",
      "\u001b[1;32m      9\u001b[0m     phis\u001b[38;5;241m=\u001b[39mstate\u001b[38;5;241m.\u001b[39mphis,\n",
      "\u001b[1;32m     10\u001b[0m     timestep\u001b[38;5;241m=\u001b[39mtimestep,\n",
      "\u001b[1;32m     11\u001b[0m )\n",
      "\n",
      "\u001b[0;31mNameError\u001b[0m: name 'grid_data' is not defined\n",
      "[2:execute]\n",
      "\u001b[0;31m---------------------------------------------------------------------------\u001b[0m\n",
      "\u001b[0;31mNameError\u001b[0m                                 Traceback (most recent call last)\n",
      "Cell \u001b[0;32mIn[6], line 3\u001b[0m\n",
      "\u001b[1;32m      1\u001b[0m dycore \u001b[38;5;241m=\u001b[39m pyFV3\u001b[38;5;241m.\u001b[39mDynamicalCore(\n",
      "\u001b[1;32m      2\u001b[0m     comm\u001b[38;5;241m=\u001b[39mcs_communicator,\n",
      "\u001b[0;32m----> 3\u001b[0m     grid_data\u001b[38;5;241m=\u001b[39m\u001b[43mgrid_data\u001b[49m,\n",
      "\u001b[1;32m      4\u001b[0m     quantity_factory\u001b[38;5;241m=\u001b[39mquantity_factory,\n",
      "\u001b[1;32m      5\u001b[0m     stencil_factory\u001b[38;5;241m=\u001b[39mstencil_factory,\n",
      "\u001b[1;32m      6\u001b[0m     damping_coefficients\u001b[38;5;241m=\u001b[39mdamping_coefficients,\n",
      "\u001b[1;32m      7\u001b[0m     config\u001b[38;5;241m=\u001b[39mconfig,\n",
      "\u001b[1;32m      8\u001b[0m     state\u001b[38;5;241m=\u001b[39mstate,\n",
      "\u001b[1;32m      9\u001b[0m     phis\u001b[38;5;241m=\u001b[39mstate\u001b[38;5;241m.\u001b[39mphis,\n",
      "\u001b[1;32m     10\u001b[0m     timestep\u001b[38;5;241m=\u001b[39mtimestep,\n",
      "\u001b[1;32m     11\u001b[0m )\n",
      "\n",
      "\u001b[0;31mNameError\u001b[0m: name 'grid_data' is not defined\n",
      "[4:execute]\n",
      "\u001b[0;31m---------------------------------------------------------------------------\u001b[0m\n",
      "\u001b[0;31mNameError\u001b[0m                                 Traceback (most recent call last)\n",
      "Cell \u001b[0;32mIn[6], line 3\u001b[0m\n",
      "\u001b[1;32m      1\u001b[0m dycore \u001b[38;5;241m=\u001b[39m pyFV3\u001b[38;5;241m.\u001b[39mDynamicalCore(\n",
      "\u001b[1;32m      2\u001b[0m     comm\u001b[38;5;241m=\u001b[39mcs_communicator,\n",
      "\u001b[0;32m----> 3\u001b[0m     grid_data\u001b[38;5;241m=\u001b[39m\u001b[43mgrid_data\u001b[49m,\n",
      "\u001b[1;32m      4\u001b[0m     quantity_factory\u001b[38;5;241m=\u001b[39mquantity_factory,\n",
      "\u001b[1;32m      5\u001b[0m     stencil_factory\u001b[38;5;241m=\u001b[39mstencil_factory,\n",
      "\u001b[1;32m      6\u001b[0m     damping_coefficients\u001b[38;5;241m=\u001b[39mdamping_coefficients,\n",
      "\u001b[1;32m      7\u001b[0m     config\u001b[38;5;241m=\u001b[39mconfig,\n",
      "\u001b[1;32m      8\u001b[0m     state\u001b[38;5;241m=\u001b[39mstate,\n",
      "\u001b[1;32m      9\u001b[0m     phis\u001b[38;5;241m=\u001b[39mstate\u001b[38;5;241m.\u001b[39mphis,\n",
      "\u001b[1;32m     10\u001b[0m     timestep\u001b[38;5;241m=\u001b[39mtimestep,\n",
      "\u001b[1;32m     11\u001b[0m )\n",
      "\n",
      "\u001b[0;31mNameError\u001b[0m: name 'grid_data' is not defined\n",
      "[1:execute]\n",
      "\u001b[0;31m---------------------------------------------------------------------------\u001b[0m\n",
      "\u001b[0;31mNameError\u001b[0m                                 Traceback (most recent call last)\n",
      "Cell \u001b[0;32mIn[6], line 3\u001b[0m\n",
      "\u001b[1;32m      1\u001b[0m dycore \u001b[38;5;241m=\u001b[39m pyFV3\u001b[38;5;241m.\u001b[39mDynamicalCore(\n",
      "\u001b[1;32m      2\u001b[0m     comm\u001b[38;5;241m=\u001b[39mcs_communicator,\n",
      "\u001b[0;32m----> 3\u001b[0m     grid_data\u001b[38;5;241m=\u001b[39m\u001b[43mgrid_data\u001b[49m,\n",
      "\u001b[1;32m      4\u001b[0m     quantity_factory\u001b[38;5;241m=\u001b[39mquantity_factory,\n",
      "\u001b[1;32m      5\u001b[0m     stencil_factory\u001b[38;5;241m=\u001b[39mstencil_factory,\n",
      "\u001b[1;32m      6\u001b[0m     damping_coefficients\u001b[38;5;241m=\u001b[39mdamping_coefficients,\n",
      "\u001b[1;32m      7\u001b[0m     config\u001b[38;5;241m=\u001b[39mconfig,\n",
      "\u001b[1;32m      8\u001b[0m     state\u001b[38;5;241m=\u001b[39mstate,\n",
      "\u001b[1;32m      9\u001b[0m     phis\u001b[38;5;241m=\u001b[39mstate\u001b[38;5;241m.\u001b[39mphis,\n",
      "\u001b[1;32m     10\u001b[0m     timestep\u001b[38;5;241m=\u001b[39mtimestep,\n",
      "\u001b[1;32m     11\u001b[0m )\n",
      "\n",
      "\u001b[0;31mNameError\u001b[0m: name 'grid_data' is not defined\n",
      "[3:execute] NameError: name 'grid_data' is not defined\n",
      "[5:execute] NameError: name 'grid_data' is not defined\n",
      "[1:execute]\n",
      "\u001b[0;31m---------------------------------------------------------------------------\u001b[0m\n",
      "\u001b[0;31mNameError\u001b[0m                                 Traceback (most recent call last)\n",
      "Cell \u001b[0;32mIn[7], line 2\u001b[0m\n",
      "\u001b[1;32m      1\u001b[0m \u001b[38;5;28;01mfor\u001b[39;00m step \u001b[38;5;129;01min\u001b[39;00m \u001b[38;5;28mrange\u001b[39m(n_steps):\n",
      "\u001b[0;32m----> 2\u001b[0m     \u001b[43mdycore\u001b[49m\u001b[38;5;241m.\u001b[39mstep_dynamics(state\u001b[38;5;241m=\u001b[39mstate)\n",
      "\n",
      "\u001b[0;31mNameError\u001b[0m: name 'dycore' is not defined\n",
      "[0:execute]\n",
      "\u001b[0;31m---------------------------------------------------------------------------\u001b[0m\n",
      "\u001b[0;31mNameError\u001b[0m                                 Traceback (most recent call last)\n",
      "Cell \u001b[0;32mIn[7], line 2\u001b[0m\n",
      "\u001b[1;32m      1\u001b[0m \u001b[38;5;28;01mfor\u001b[39;00m step \u001b[38;5;129;01min\u001b[39;00m \u001b[38;5;28mrange\u001b[39m(n_steps):\n",
      "\u001b[0;32m----> 2\u001b[0m     \u001b[43mdycore\u001b[49m\u001b[38;5;241m.\u001b[39mstep_dynamics(state\u001b[38;5;241m=\u001b[39mstate)\n",
      "\n",
      "\u001b[0;31mNameError\u001b[0m: name 'dycore' is not defined\n",
      "[4:execute]\n",
      "\u001b[0;31m---------------------------------------------------------------------------\u001b[0m\n",
      "\u001b[0;31mNameError\u001b[0m                                 Traceback (most recent call last)\n",
      "Cell \u001b[0;32mIn[7], line 2\u001b[0m\n",
      "\u001b[1;32m      1\u001b[0m \u001b[38;5;28;01mfor\u001b[39;00m step \u001b[38;5;129;01min\u001b[39;00m \u001b[38;5;28mrange\u001b[39m(n_steps):\n",
      "\u001b[0;32m----> 2\u001b[0m     \u001b[43mdycore\u001b[49m\u001b[38;5;241m.\u001b[39mstep_dynamics(state\u001b[38;5;241m=\u001b[39mstate)\n",
      "\n",
      "\u001b[0;31mNameError\u001b[0m: name 'dycore' is not defined\n",
      "[2:execute]\n",
      "\u001b[0;31m---------------------------------------------------------------------------\u001b[0m\n",
      "\u001b[0;31mNameError\u001b[0m                                 Traceback (most recent call last)\n",
      "Cell \u001b[0;32mIn[7], line 2\u001b[0m\n",
      "\u001b[1;32m      1\u001b[0m \u001b[38;5;28;01mfor\u001b[39;00m step \u001b[38;5;129;01min\u001b[39;00m \u001b[38;5;28mrange\u001b[39m(n_steps):\n",
      "\u001b[0;32m----> 2\u001b[0m     \u001b[43mdycore\u001b[49m\u001b[38;5;241m.\u001b[39mstep_dynamics(state\u001b[38;5;241m=\u001b[39mstate)\n",
      "\n",
      "\u001b[0;31mNameError\u001b[0m: name 'dycore' is not defined\n",
      "[3:execute] NameError: name 'dycore' is not defined\n",
      "[5:execute] NameError: name 'dycore' is not defined\n"
     ]
    }
   ],
   "source": [
    "import ipyparallel as ipp\n",
    "\n",
    "nx = 12\n",
    "ny = 12\n",
    "nz = 79\n",
    "nhalo = 3\n",
    "backend = \"numpy\"\n",
    "\n",
    "layout = (1, 1)\n",
    "ntiles = 6\n",
    "# spinup cluster of MPI-workers\n",
    "num_ranks = ntiles * layout[0] * layout[1]\n",
    "\n",
    "cluster = ipp.Cluster(engines=\"mpi\", n=num_ranks).start_and_connect_sync()\n",
    "\n",
    "# broadcast configuration to all workers\n",
    "ar = cluster[:].push(\n",
    "    {\n",
    "        \"ntiles\": ntiles,\n",
    "        \"nx\": nx,\n",
    "        \"ny\": ny,\n",
    "        \"nz\": nz,\n",
    "        \"nhalo\": nhalo,\n",
    "        \"layout\": layout,\n",
    "        \"backend\": backend,\n",
    "    }\n",
    ")\n",
    "\n",
    "# start executing cells on the workers in parallel from here on\n",
    "%autopx"
   ]
  },
  {
   "cell_type": "code",
   "execution_count": 2,
   "id": "56d8458b-7369-4061-b5cf-d0dd39b084e7",
   "metadata": {},
   "outputs": [
    {
     "data": {
      "text/plain": [
       "[stdout:0] Hello from rank 0\n"
      ]
     },
     "metadata": {},
     "output_type": "display_data"
    },
    {
     "data": {
      "text/plain": [
       "[stdout:1] Hello from rank 1\n"
      ]
     },
     "metadata": {},
     "output_type": "display_data"
    },
    {
     "data": {
      "text/plain": [
       "[stdout:2] Hello from rank 2\n"
      ]
     },
     "metadata": {},
     "output_type": "display_data"
    },
    {
     "data": {
      "text/plain": [
       "[stdout:3] Hello from rank 3\n"
      ]
     },
     "metadata": {},
     "output_type": "display_data"
    },
    {
     "data": {
      "text/plain": [
       "[stdout:5] Hello from rank 5\n"
      ]
     },
     "metadata": {},
     "output_type": "display_data"
    },
    {
     "data": {
      "text/plain": [
       "[stdout:4] Hello from rank 4\n"
      ]
     },
     "metadata": {},
     "output_type": "display_data"
    }
   ],
   "source": [
    "from mpi4py import MPI\n",
    "\n",
    "mpi_comm = MPI.COMM_WORLD\n",
    "mpi_rank = mpi_comm.Get_rank()\n",
    "print(f\"Hello from rank {mpi_rank}\")"
   ]
  },
  {
   "cell_type": "markdown",
   "id": "e2666788-ff50-4906-a5be-5ed56f7449c9",
   "metadata": {},
   "source": [
    "### Set up NDSL infrastructure"
   ]
  },
  {
   "cell_type": "code",
   "execution_count": 3,
   "id": "e52bfae4-0b90-4cf5-b6b5-1cc2b6c836c2",
   "metadata": {},
   "outputs": [
    {
     "data": {
      "text/plain": [
       "[output:1]"
      ]
     },
     "metadata": {},
     "output_type": "display_data"
    },
    {
     "data": {
      "text/html": [
       "<link href=\"https://fonts.googleapis.com/icon?family=Material+Icons\" rel=\"stylesheet\"><script src=\"https://spcl.github.io/dace/webclient2/dist/sdfv.js\"></script>\n",
       "<link href=\"https://spcl.github.io/dace/webclient2/sdfv.css\" rel=\"stylesheet\">\n"
      ],
      "text/plain": [
       "<IPython.core.display.HTML object>"
      ]
     },
     "metadata": {
      "engine": 1
     },
     "output_type": "display_data"
    },
    {
     "data": {
      "text/plain": [
       "[output:0]"
      ]
     },
     "metadata": {},
     "output_type": "display_data"
    },
    {
     "data": {
      "text/html": [
       "<link href=\"https://fonts.googleapis.com/icon?family=Material+Icons\" rel=\"stylesheet\"><script src=\"https://spcl.github.io/dace/webclient2/dist/sdfv.js\"></script>\n",
       "<link href=\"https://spcl.github.io/dace/webclient2/sdfv.css\" rel=\"stylesheet\">\n"
      ],
      "text/plain": [
       "<IPython.core.display.HTML object>"
      ]
     },
     "metadata": {
      "engine": 0
     },
     "output_type": "display_data"
    },
    {
     "data": {
      "text/plain": [
       "[output:4]"
      ]
     },
     "metadata": {},
     "output_type": "display_data"
    },
    {
     "data": {
      "text/html": [
       "<link href=\"https://fonts.googleapis.com/icon?family=Material+Icons\" rel=\"stylesheet\"><script src=\"https://spcl.github.io/dace/webclient2/dist/sdfv.js\"></script>\n",
       "<link href=\"https://spcl.github.io/dace/webclient2/sdfv.css\" rel=\"stylesheet\">\n"
      ],
      "text/plain": [
       "<IPython.core.display.HTML object>"
      ]
     },
     "metadata": {
      "engine": 4
     },
     "output_type": "display_data"
    },
    {
     "data": {
      "text/plain": [
       "[output:2]"
      ]
     },
     "metadata": {},
     "output_type": "display_data"
    },
    {
     "data": {
      "text/html": [
       "<link href=\"https://fonts.googleapis.com/icon?family=Material+Icons\" rel=\"stylesheet\"><script src=\"https://spcl.github.io/dace/webclient2/dist/sdfv.js\"></script>\n",
       "<link href=\"https://spcl.github.io/dace/webclient2/sdfv.css\" rel=\"stylesheet\">\n"
      ],
      "text/plain": [
       "<IPython.core.display.HTML object>"
      ]
     },
     "metadata": {
      "engine": 2
     },
     "output_type": "display_data"
    },
    {
     "data": {
      "text/plain": [
       "[output:5]"
      ]
     },
     "metadata": {},
     "output_type": "display_data"
    },
    {
     "data": {
      "text/html": [
       "<link href=\"https://fonts.googleapis.com/icon?family=Material+Icons\" rel=\"stylesheet\"><script src=\"https://spcl.github.io/dace/webclient2/dist/sdfv.js\"></script>\n",
       "<link href=\"https://spcl.github.io/dace/webclient2/sdfv.css\" rel=\"stylesheet\">\n"
      ],
      "text/plain": [
       "<IPython.core.display.HTML object>"
      ]
     },
     "metadata": {
      "engine": 5
     },
     "output_type": "display_data"
    },
    {
     "data": {
      "text/plain": [
       "[output:3]"
      ]
     },
     "metadata": {},
     "output_type": "display_data"
    },
    {
     "data": {
      "text/html": [
       "<link href=\"https://fonts.googleapis.com/icon?family=Material+Icons\" rel=\"stylesheet\"><script src=\"https://spcl.github.io/dace/webclient2/dist/sdfv.js\"></script>\n",
       "<link href=\"https://spcl.github.io/dace/webclient2/sdfv.css\" rel=\"stylesheet\">\n"
      ],
      "text/plain": [
       "<IPython.core.display.HTML object>"
      ]
     },
     "metadata": {
      "engine": 3
     },
     "output_type": "display_data"
    },
    {
     "data": {
      "text/plain": [
       "[stdout:5] 2024-04-16 17:36:23|INFO|rank 5|ndsl.logging:Constant selected: ConstantVersions.GFS\n"
      ]
     },
     "metadata": {},
     "output_type": "display_data"
    },
    {
     "data": {
      "text/plain": [
       "[stdout:4] 2024-04-16 17:36:23|INFO|rank 4|ndsl.logging:Constant selected: ConstantVersions.GFS\n"
      ]
     },
     "metadata": {},
     "output_type": "display_data"
    },
    {
     "data": {
      "text/plain": [
       "[stdout:3] 2024-04-16 17:36:23|INFO|rank 3|ndsl.logging:Constant selected: ConstantVersions.GFS\n"
      ]
     },
     "metadata": {},
     "output_type": "display_data"
    },
    {
     "data": {
      "text/plain": [
       "[stdout:1] 2024-04-16 17:36:23|INFO|rank 1|ndsl.logging:Constant selected: ConstantVersions.GFS\n"
      ]
     },
     "metadata": {},
     "output_type": "display_data"
    },
    {
     "data": {
      "text/plain": [
       "[stdout:0] 2024-04-16 17:36:23|INFO|rank 0|ndsl.logging:Constant selected: ConstantVersions.GFS\n"
      ]
     },
     "metadata": {},
     "output_type": "display_data"
    },
    {
     "data": {
      "text/plain": [
       "[stdout:2] 2024-04-16 17:36:23|INFO|rank 2|ndsl.logging:Constant selected: ConstantVersions.GFS\n"
      ]
     },
     "metadata": {},
     "output_type": "display_data"
    },
    {
     "data": {
      "application/vnd.jupyter.widget-view+json": {
       "model_id": "2d08cd0091bc43bbab64b251fa931c3c",
       "version_major": 2,
       "version_minor": 0
      },
      "text/plain": [
       "%px:   0%|          | 0/6 [00:00<?, ?tasks/s]"
      ]
     },
     "metadata": {},
     "output_type": "display_data"
    }
   ],
   "source": [
    "import gt4py.cartesian.gtscript as gtscript\n",
    "from gt4py.cartesian.gtscript import PARALLEL, computation, interval\n",
    "\n",
    "from ndsl.dsl.typing import Float, FloatField, FloatFieldIJ\n",
    "from ndsl.comm.communicator import Communicator, CubedSphereCommunicator, TileCommunicator\n",
    "from ndsl.dsl.stencil import StencilFactory, GridIndexing\n",
    "from ndsl.initialization import SubtileGridSizer\n",
    "from ndsl.initialization.allocator import QuantityFactory\n",
    "from ndsl.quantity import Quantity\n",
    "from ndsl.comm.partitioner import CubedSpherePartitioner, TilePartitioner\n",
    "from ndsl.constants import X_DIM, Y_DIM, Z_DIM\n",
    "from ndsl.dsl.stencil_config import CompilationConfig, StencilConfig\n",
    "from ndsl.dsl.dace.wrapped_halo_exchange import WrappedHaloUpdater\n",
    "from ndsl.grid import (\n",
    "    DampingCoefficients,\n",
    "    DriverGridData,\n",
    "    GridData,\n",
    "    MetricTerms,\n",
    "    direct_transform,\n",
    ")\n",
    "from ndsl.grid.helper import (\n",
    "    AngleGridData,\n",
    "    ContravariantGridData,\n",
    "    HorizontalGridData,\n",
    "    VerticalGridData,\n",
    ")\n",
    "from ndsl.namelist import Namelist, NamelistDefaults\n",
    "\n",
    "import pyFV3\n",
    "import pyFV3.initialization.analytic_init as analytic_init\n",
    "from dataclasses import fields\n",
    "import yaml\n",
    "from datetime import timedelta"
   ]
  },
  {
   "cell_type": "code",
   "execution_count": 4,
   "id": "a8e3112b-2f74-4ca7-873d-98f254c076f4",
   "metadata": {},
   "outputs": [],
   "source": [
    "partitioner = CubedSpherePartitioner(TilePartitioner(layout))\n",
    "cs_communicator = CubedSphereCommunicator(mpi_comm, partitioner)\n",
    "\n",
    "\n",
    "sizer = SubtileGridSizer.from_tile_params(\n",
    "    nx_tile=nx,\n",
    "    ny_tile=ny,\n",
    "    nz=nz,\n",
    "    n_halo=nhalo,\n",
    "    extra_dim_lengths={},\n",
    "    layout=layout,\n",
    "    tile_partitioner=partitioner.tile,\n",
    "    tile_rank=cs_communicator.tile.rank,\n",
    ")\n",
    "\n",
    "# useful for easily allocating distributed data storages (fields)\n",
    "quantity_factory = QuantityFactory.from_backend(sizer=sizer, backend=backend)\n",
    "\n",
    "compilation_config = CompilationConfig(backend=backend, communicator=cs_communicator)\n",
    "\n",
    "stencil_config = StencilConfig(compare_to_numpy=False, compilation_config=compilation_config)\n",
    "\n",
    "grid_indexing = GridIndexing.from_sizer_and_communicator(sizer=sizer, comm=cs_communicator)\n",
    "\n",
    "stencil_factory = StencilFactory(config=stencil_config, grid_indexing=grid_indexing)"
   ]
  },
  {
   "cell_type": "markdown",
   "id": "cd96c3d6-a1c6-4a8d-9f0a-17a1525d55d0",
   "metadata": {},
   "source": [
    "### Grid"
   ]
  },
  {
   "cell_type": "code",
   "execution_count": 5,
   "id": "d7abc2ac-ba57-4b1f-8105-cc4aee802c0f",
   "metadata": {},
   "outputs": [
    {
     "ename": "AlreadyDisplayedError",
     "evalue": "6 errors",
     "output_type": "error",
     "traceback": [
      "6 errors"
     ]
    }
   ],
   "source": [
    "metric_terms = MetricTerms(\n",
    "    quantity_factory=quantity_factory,\n",
    "    communicator=cs_communicator,\n",
    "    eta_file=\"eta79.nc\",\n",
    ")\n",
    "\n",
    "horizontal_data = HorizontalGridData.new_from_metric_terms(metric_terms)\n",
    "vertical_data = VerticalGridData.new_from_metric_terms(metric_terms)\n",
    "contravariant_data = ContravariantGridData.new_from_metric_terms(metric_terms)\n",
    "angle_data = AngleGridData.new_from_metric_terms(metric_terms)\n",
    "grid_data = GridData(\n",
    "    horizontal_data=horizontal_data,\n",
    "    vertical_data=vertical_data,\n",
    "    contravariant_data=contravariant_data,\n",
    "    angle_data=angle_data,\n",
    ")\n",
    "damping_coefficients = DampingCoefficients.new_from_metric_terms(metric_terms)\n",
    "\n",
    "driver_grid_data = DriverGridData.new_from_metric_terms(metric_terms)"
   ]
  },
  {
   "cell_type": "markdown",
   "id": "ef3c7ca8-c919-4e81-97e4-9486a1a61491",
   "metadata": {},
   "source": [
    "## Init dycore"
   ]
  },
  {
   "cell_type": "code",
   "execution_count": 6,
   "id": "fc7f7bcd-8946-4300-bd2c-da5da3d53b75",
   "metadata": {},
   "outputs": [
    {
     "ename": "AlreadyDisplayedError",
     "evalue": "6 errors",
     "output_type": "error",
     "traceback": [
      "6 errors"
     ]
    }
   ],
   "source": [
    "from datetime import datetime, timedelta\n",
    "from math import floor\n",
    "import yaml\n",
    "\n",
    "yaml_config = \"c12_baroclinic.yaml\"\n",
    "runtime = {}\n",
    "runtime[\"days\"] = 0.\n",
    "runtime[\"hours\"] = 0.\n",
    "runtime[\"minutes\"] = 0.\n",
    "runtime[\"seconds\"] = 0.\n",
    "\n",
    "with open(yaml_config) as f:\n",
    "    raw_config = yaml.safe_load(f)\n",
    "\n",
    "for key in runtime.keys():\n",
    "    if key in raw_config.keys():\n",
    "        runtime[key] = raw_config[key]\n",
    "\n",
    "total_time = timedelta(\n",
    "    days=runtime[\"days\"], hours=runtime[\"hours\"], minutes=runtime[\"minutes\"], seconds=runtime[\"seconds\"]\n",
    ")\n",
    "\n",
    "config = pyFV3.DynamicalCoreConfig.from_yaml(yaml_config)\n",
    "config.ntiles = 6\n",
    "\n",
    "timestep = timedelta(seconds=config.dt_atmos)\n",
    "\n",
    "n_steps = floor(total_time.total_seconds() / timestep.total_seconds())\n",
    "\n",
    "state = analytic_init.init_analytic_state(\n",
    "    analytic_init_case=\"baroclinic\",\n",
    "    grid_data=grid_data,\n",
    "    quantity_factory=quantity_factory,\n",
    "    adiabatic=False,\n",
    "    hydrostatic=False,\n",
    "    moist_phys=True,\n",
    "    comm=cs_communicator,\n",
    ")"
   ]
  },
  {
   "cell_type": "code",
   "execution_count": 7,
   "id": "e965716b-12e2-4096-8a03-a6f2126d0e3a",
   "metadata": {},
   "outputs": [
    {
     "ename": "AlreadyDisplayedError",
     "evalue": "6 errors",
     "output_type": "error",
     "traceback": [
      "6 errors"
     ]
    }
   ],
   "source": [
    "dycore = pyFV3.DynamicalCore(\n",
    "    comm=cs_communicator,\n",
    "    grid_data=grid_data,\n",
    "    quantity_factory=quantity_factory,\n",
    "    stencil_factory=stencil_factory,\n",
    "    damping_coefficients=damping_coefficients,\n",
    "    config=config,\n",
    "    state=state,\n",
    "    phis=state.phis,\n",
    "    timestep=timestep,\n",
    ")"
   ]
  },
  {
   "cell_type": "markdown",
   "id": "48c8ea63-1d02-40b6-890f-fe4364c9a9e4",
   "metadata": {},
   "source": [
    "## And here we can start looping through"
   ]
  },
  {
   "cell_type": "code",
   "execution_count": 8,
   "id": "1d650516-2de7-4014-ae63-4ddf0c5b510b",
   "metadata": {},
   "outputs": [
    {
     "ename": "AlreadyDisplayedError",
     "evalue": "6 errors",
     "output_type": "error",
     "traceback": [
      "6 errors"
     ]
    }
   ],
   "source": [
    "for step in range(n_steps):\n",
    "    dycore.step_dynamics(state=state)"
   ]
  },
  {
   "cell_type": "code",
   "execution_count": null,
   "id": "08c24608-eafc-423e-a6e9-c67bfe025263",
   "metadata": {},
   "outputs": [],
   "source": []
  }
 ],
 "metadata": {
  "kernelspec": {
   "display_name": "Python 3 (ipykernel)",
   "language": "python",
   "name": "python3"
  },
  "language_info": {
   "codemirror_mode": {
    "name": "ipython",
    "version": 3
   },
   "file_extension": ".py",
   "mimetype": "text/x-python",
   "name": "python",
   "nbconvert_exporter": "python",
   "pygments_lexer": "ipython3",
   "version": "3.8.18"
  }
 },
 "nbformat": 4,
 "nbformat_minor": 5
}
